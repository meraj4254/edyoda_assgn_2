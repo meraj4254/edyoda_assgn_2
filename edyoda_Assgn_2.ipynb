{
 "cells": [
  {
   "cell_type": "code",
   "execution_count": 7,
   "id": "31b1d2b3",
   "metadata": {},
   "outputs": [
    {
     "name": "stdout",
     "output_type": "stream",
     "text": [
      "[(2, 1), (1, 2), (2, 3), (4, 4), (2, 5)]\n"
     ]
    }
   ],
   "source": [
    "\"\"\"\n",
    "Write a Python program to get a list, sorted in increasing order by the last element in each tuple from a given list of non-empty tuples\n",
    "\n",
    "\n",
    "\n",
    "Sample List : [(2, 5), (1, 2), (4, 4), (2, 3), (2, 1)]\n",
    "\n",
    "Expected Result : [(2, 1), (1, 2), (2, 3), (4, 4), (2, 5)]\n",
    "\n",
    "\"\"\"\n",
    "\n",
    "def last(n):\n",
    "    return n[-1]\n",
    "def sort(a):\n",
    "    return sorted(a,key=last)\n",
    "a =[(2, 5), (1, 2), (4, 4), (2, 3), (2, 1)]\n",
    "print(sort(a))\n",
    "    \n",
    "\n",
    "\n"
   ]
  },
  {
   "cell_type": "code",
   "execution_count": 6,
   "id": "70f76bc4",
   "metadata": {},
   "outputs": [
    {
     "name": "stdout",
     "output_type": "stream",
     "text": [
      "{'a': 97, 'b': 98, 'c': 99, 'd': 100, 'e': 101, 'f': 102, 'g': 103, 'h': 104, 'i': 105, 'j': 106, 'k': 107, 'l': 108, 'm': 109, 'n': 110, 'o': 111, 'p': 112, 'q': 113, 'r': 114, 's': 115, 't': 116, 'u': 117, 'v': 118, 'w': 119, 'x': 120, 'y': 121, 'z': 122}\n"
     ]
    }
   ],
   "source": [
    "# Write a Python program to print a dictionary whose keys should be the alphabet from a-z and the value should be corresponding ASCII values\n",
    "\n",
    "     \n",
    "# Sample Output : {'a': 97, 'b': 98, 'c': 99, 'd': 100, 'e': 101, /n\n",
    " #                'f': 102, 'g': 103, 'h': 104, 'i': 105, 'j': 106,/n\n",
    " #                'k': 107, 'l': 108, 'm': 109, 'n': 110, 'o': 111, /n\n",
    " #                'p': 112, 'q': 113, 'r': 114, 's': 115, 't': 116, /n\n",
    " #                'u': 117, 'v': 118, 'w': 119, 'x': 120, 'y': 121, 'z': 122} \n",
    "            \n",
    "    \n",
    "ascii={}\n",
    "for i in range(ord(\"a\"),(ord(\"z\")+1)):\n",
    "    ascii[chr (i)]  =i\n",
    "print(ascii)\n",
    "    \n",
    "                 "
   ]
  },
  {
   "cell_type": "code",
   "execution_count": null,
   "id": "c744ebdd",
   "metadata": {},
   "outputs": [],
   "source": []
  }
 ],
 "metadata": {
  "kernelspec": {
   "display_name": "Python 3 (ipykernel)",
   "language": "python",
   "name": "python3"
  },
  "language_info": {
   "codemirror_mode": {
    "name": "ipython",
    "version": 3
   },
   "file_extension": ".py",
   "mimetype": "text/x-python",
   "name": "python",
   "nbconvert_exporter": "python",
   "pygments_lexer": "ipython3",
   "version": "3.10.2"
  }
 },
 "nbformat": 4,
 "nbformat_minor": 5
}
